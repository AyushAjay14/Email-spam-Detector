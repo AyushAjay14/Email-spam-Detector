{
 "cells": [
  {
   "cell_type": "code",
   "execution_count": 101,
   "id": "129fab67-6f72-4ee5-9eb7-7b64de99eb01",
   "metadata": {},
   "outputs": [
    {
     "name": "stderr",
     "output_type": "stream",
     "text": [
      "ERROR: Ignored the following versions that require a different python version: 1.6.2 Requires-Python >=3.7,<3.10; 1.6.3 Requires-Python >=3.7,<3.10; 1.7.0 Requires-Python >=3.7,<3.10; 1.7.1 Requires-Python >=3.7,<3.10; 1.7.2 Requires-Python >=3.7,<3.11; 1.7.3 Requires-Python >=3.7,<3.11; 1.8.0 Requires-Python >=3.8,<3.11; 1.8.0rc1 Requires-Python >=3.8,<3.11; 1.8.0rc2 Requires-Python >=3.8,<3.11; 1.8.0rc3 Requires-Python >=3.8,<3.11; 1.8.0rc4 Requires-Python >=3.8,<3.11; 1.8.1 Requires-Python >=3.8,<3.11\n",
      "ERROR: Could not find a version that satisfies the requirement scipy==1.8.0 (from versions: 0.8.0, 0.9.0, 0.10.0, 0.10.1, 0.11.0, 0.12.0, 0.12.1, 0.13.0, 0.13.1, 0.13.2, 0.13.3, 0.14.0, 0.14.1, 0.15.0, 0.15.1, 0.16.0, 0.16.1, 0.17.0, 0.17.1, 0.18.0, 0.18.1, 0.19.0, 0.19.1, 1.0.0, 1.0.1, 1.1.0, 1.2.0, 1.2.1, 1.2.2, 1.2.3, 1.3.0, 1.3.1, 1.3.2, 1.3.3, 1.4.0, 1.4.1, 1.5.0, 1.5.1, 1.5.2, 1.5.3, 1.5.4, 1.6.0, 1.6.1, 1.9.0rc1, 1.9.0rc2, 1.9.0rc3, 1.9.0, 1.9.1, 1.9.2, 1.9.3, 1.10.0rc1, 1.10.0rc2, 1.10.0, 1.10.1, 1.11.0rc1, 1.11.0rc2, 1.11.0, 1.11.1, 1.11.2)\n",
      "ERROR: No matching distribution found for scipy==1.8.0\n"
     ]
    }
   ],
   "source": [
    "import numpy as np\n",
    "import pandas as pd\n",
    "!pip install --force-reinstall scipy==1.8.0"
   ]
  },
  {
   "cell_type": "code",
   "execution_count": 2,
   "id": "7c1e5957-75e7-446e-a7e5-767d57e536ab",
   "metadata": {},
   "outputs": [],
   "source": [
    "# df = pd.read_csv('spam.csv', encoding='utf-8')\n",
    "df = pd.read_csv('spam_ham_dataset.csv', encoding='utf-8')"
   ]
  },
  {
   "cell_type": "code",
   "execution_count": 3,
   "id": "36aa77f7-e782-461a-b622-c1d3cf801646",
   "metadata": {},
   "outputs": [
    {
     "data": {
      "text/html": [
       "<div>\n",
       "<style scoped>\n",
       "    .dataframe tbody tr th:only-of-type {\n",
       "        vertical-align: middle;\n",
       "    }\n",
       "\n",
       "    .dataframe tbody tr th {\n",
       "        vertical-align: top;\n",
       "    }\n",
       "\n",
       "    .dataframe thead th {\n",
       "        text-align: right;\n",
       "    }\n",
       "</style>\n",
       "<table border=\"1\" class=\"dataframe\">\n",
       "  <thead>\n",
       "    <tr style=\"text-align: right;\">\n",
       "      <th></th>\n",
       "      <th>Unnamed: 0</th>\n",
       "      <th>label</th>\n",
       "      <th>text</th>\n",
       "      <th>label_num</th>\n",
       "    </tr>\n",
       "  </thead>\n",
       "  <tbody>\n",
       "    <tr>\n",
       "      <th>601</th>\n",
       "      <td>2482</td>\n",
       "      <td>ham</td>\n",
       "      <td>Subject: hpl nom for january 30 , 2001\\r\\n( se...</td>\n",
       "      <td>0</td>\n",
       "    </tr>\n",
       "    <tr>\n",
       "      <th>4931</th>\n",
       "      <td>4612</td>\n",
       "      <td>spam</td>\n",
       "      <td>Subject: re : pretty boy wants to meet his sou...</td>\n",
       "      <td>1</td>\n",
       "    </tr>\n",
       "    <tr>\n",
       "      <th>860</th>\n",
       "      <td>1179</td>\n",
       "      <td>ham</td>\n",
       "      <td>Subject: re : meter 1459 , 6 / 00\\r\\nyep , you...</td>\n",
       "      <td>0</td>\n",
       "    </tr>\n",
       "    <tr>\n",
       "      <th>2274</th>\n",
       "      <td>3336</td>\n",
       "      <td>ham</td>\n",
       "      <td>Subject: re : tenaska iv - cleburne plant\\r\\nd...</td>\n",
       "      <td>0</td>\n",
       "    </tr>\n",
       "    <tr>\n",
       "      <th>4591</th>\n",
       "      <td>2866</td>\n",
       "      <td>ham</td>\n",
       "      <td>Subject: spot deals - april , 2001\\r\\nthe foll...</td>\n",
       "      <td>0</td>\n",
       "    </tr>\n",
       "  </tbody>\n",
       "</table>\n",
       "</div>"
      ],
      "text/plain": [
       "      Unnamed: 0 label                                               text  \\\n",
       "601         2482   ham  Subject: hpl nom for january 30 , 2001\\r\\n( se...   \n",
       "4931        4612  spam  Subject: re : pretty boy wants to meet his sou...   \n",
       "860         1179   ham  Subject: re : meter 1459 , 6 / 00\\r\\nyep , you...   \n",
       "2274        3336   ham  Subject: re : tenaska iv - cleburne plant\\r\\nd...   \n",
       "4591        2866   ham  Subject: spot deals - april , 2001\\r\\nthe foll...   \n",
       "\n",
       "      label_num  \n",
       "601           0  \n",
       "4931          1  \n",
       "860           0  \n",
       "2274          0  \n",
       "4591          0  "
      ]
     },
     "execution_count": 3,
     "metadata": {},
     "output_type": "execute_result"
    }
   ],
   "source": [
    "df.sample(5)"
   ]
  },
  {
   "cell_type": "code",
   "execution_count": 4,
   "id": "0189db23-dcf7-4960-b13f-6c274bc7b709",
   "metadata": {},
   "outputs": [
    {
     "data": {
      "text/plain": [
       "(5171, 4)"
      ]
     },
     "execution_count": 4,
     "metadata": {},
     "output_type": "execute_result"
    }
   ],
   "source": [
    "df.shape"
   ]
  },
  {
   "cell_type": "code",
   "execution_count": 5,
   "id": "ae52c1bd-9ca1-4550-b9af-c8d2a906ff26",
   "metadata": {},
   "outputs": [
    {
     "name": "stdout",
     "output_type": "stream",
     "text": [
      "<class 'pandas.core.frame.DataFrame'>\n",
      "RangeIndex: 5171 entries, 0 to 5170\n",
      "Data columns (total 4 columns):\n",
      " #   Column      Non-Null Count  Dtype \n",
      "---  ------      --------------  ----- \n",
      " 0   Unnamed: 0  5171 non-null   int64 \n",
      " 1   label       5171 non-null   object\n",
      " 2   text        5171 non-null   object\n",
      " 3   label_num   5171 non-null   int64 \n",
      "dtypes: int64(2), object(2)\n",
      "memory usage: 161.7+ KB\n"
     ]
    }
   ],
   "source": [
    "df.info()"
   ]
  },
  {
   "cell_type": "markdown",
   "id": "6389ff1a-26af-4bf1-bae5-149c40bc6faf",
   "metadata": {},
   "source": [
    "## 1. Data Cleaning"
   ]
  },
  {
   "cell_type": "code",
   "execution_count": 6,
   "id": "ab0a84d1-7cd9-407c-ab78-899d9f9963c0",
   "metadata": {},
   "outputs": [],
   "source": [
    "df.drop(columns= ['Unnamed: 0' , 'label_num'] , inplace=True)"
   ]
  },
  {
   "cell_type": "code",
   "execution_count": 7,
   "id": "630f876b-134c-48ab-9671-0370e75b651f",
   "metadata": {},
   "outputs": [
    {
     "data": {
      "text/html": [
       "<div>\n",
       "<style scoped>\n",
       "    .dataframe tbody tr th:only-of-type {\n",
       "        vertical-align: middle;\n",
       "    }\n",
       "\n",
       "    .dataframe tbody tr th {\n",
       "        vertical-align: top;\n",
       "    }\n",
       "\n",
       "    .dataframe thead th {\n",
       "        text-align: right;\n",
       "    }\n",
       "</style>\n",
       "<table border=\"1\" class=\"dataframe\">\n",
       "  <thead>\n",
       "    <tr style=\"text-align: right;\">\n",
       "      <th></th>\n",
       "      <th>label</th>\n",
       "      <th>text</th>\n",
       "    </tr>\n",
       "  </thead>\n",
       "  <tbody>\n",
       "    <tr>\n",
       "      <th>3120</th>\n",
       "      <td>ham</td>\n",
       "      <td>Subject: re : preliminary \" buyback &amp; deficien...</td>\n",
       "    </tr>\n",
       "    <tr>\n",
       "      <th>2849</th>\n",
       "      <td>ham</td>\n",
       "      <td>Subject: re : gas message board\\r\\nthe problem...</td>\n",
       "    </tr>\n",
       "    <tr>\n",
       "      <th>1357</th>\n",
       "      <td>ham</td>\n",
       "      <td>Subject: office administrator needed\\r\\nplease...</td>\n",
       "    </tr>\n",
       "    <tr>\n",
       "      <th>4337</th>\n",
       "      <td>ham</td>\n",
       "      <td>Subject: deal number\\r\\ndarren ,\\r\\ni understa...</td>\n",
       "    </tr>\n",
       "    <tr>\n",
       "      <th>3589</th>\n",
       "      <td>spam</td>\n",
       "      <td>Subject: open immediately for smart s - p - a ...</td>\n",
       "    </tr>\n",
       "  </tbody>\n",
       "</table>\n",
       "</div>"
      ],
      "text/plain": [
       "     label                                               text\n",
       "3120   ham  Subject: re : preliminary \" buyback & deficien...\n",
       "2849   ham  Subject: re : gas message board\\r\\nthe problem...\n",
       "1357   ham  Subject: office administrator needed\\r\\nplease...\n",
       "4337   ham  Subject: deal number\\r\\ndarren ,\\r\\ni understa...\n",
       "3589  spam  Subject: open immediately for smart s - p - a ..."
      ]
     },
     "execution_count": 7,
     "metadata": {},
     "output_type": "execute_result"
    }
   ],
   "source": [
    "df.sample(5)"
   ]
  },
  {
   "cell_type": "code",
   "execution_count": 8,
   "id": "7cb1dd17-5c5f-4c6f-90bd-11781d05e60e",
   "metadata": {},
   "outputs": [],
   "source": [
    "df.rename(columns={'label':'target'}, inplace=True)"
   ]
  },
  {
   "cell_type": "code",
   "execution_count": 9,
   "id": "92d61ec1-1e5b-4edb-883c-34aaec84a9a0",
   "metadata": {},
   "outputs": [
    {
     "data": {
      "text/html": [
       "<div>\n",
       "<style scoped>\n",
       "    .dataframe tbody tr th:only-of-type {\n",
       "        vertical-align: middle;\n",
       "    }\n",
       "\n",
       "    .dataframe tbody tr th {\n",
       "        vertical-align: top;\n",
       "    }\n",
       "\n",
       "    .dataframe thead th {\n",
       "        text-align: right;\n",
       "    }\n",
       "</style>\n",
       "<table border=\"1\" class=\"dataframe\">\n",
       "  <thead>\n",
       "    <tr style=\"text-align: right;\">\n",
       "      <th></th>\n",
       "      <th>target</th>\n",
       "      <th>text</th>\n",
       "    </tr>\n",
       "  </thead>\n",
       "  <tbody>\n",
       "    <tr>\n",
       "      <th>503</th>\n",
       "      <td>ham</td>\n",
       "      <td>Subject: hpl nomination for january 15 thru 17...</td>\n",
       "    </tr>\n",
       "    <tr>\n",
       "      <th>4381</th>\n",
       "      <td>ham</td>\n",
       "      <td>Subject: txu noms . for 10 / 14 - 16 / 00\\r\\na...</td>\n",
       "    </tr>\n",
       "    <tr>\n",
       "      <th>956</th>\n",
       "      <td>ham</td>\n",
       "      <td>Subject: re : cornhusker\\r\\ntenaska iv has bee...</td>\n",
       "    </tr>\n",
       "    <tr>\n",
       "      <th>1210</th>\n",
       "      <td>spam</td>\n",
       "      <td>Subject: check it out\\r\\nhello ,\\r\\nif you wan...</td>\n",
       "    </tr>\n",
       "    <tr>\n",
       "      <th>4081</th>\n",
       "      <td>spam</td>\n",
       "      <td>Subject: \\r\\n</td>\n",
       "    </tr>\n",
       "  </tbody>\n",
       "</table>\n",
       "</div>"
      ],
      "text/plain": [
       "     target                                               text\n",
       "503     ham  Subject: hpl nomination for january 15 thru 17...\n",
       "4381    ham  Subject: txu noms . for 10 / 14 - 16 / 00\\r\\na...\n",
       "956     ham  Subject: re : cornhusker\\r\\ntenaska iv has bee...\n",
       "1210   spam  Subject: check it out\\r\\nhello ,\\r\\nif you wan...\n",
       "4081   spam                                      Subject: \\r\\n"
      ]
     },
     "execution_count": 9,
     "metadata": {},
     "output_type": "execute_result"
    }
   ],
   "source": [
    "df.sample(5)"
   ]
  },
  {
   "cell_type": "code",
   "execution_count": 10,
   "id": "60b7c2be-3cfb-4cc7-9575-9e69061c29a6",
   "metadata": {},
   "outputs": [
    {
     "name": "stdout",
     "output_type": "stream",
     "text": [
      "Requirement already satisfied: jedi in c:\\users\\d4rkdemian\\appdata\\local\\programs\\python\\python311\\lib\\site-packages (0.19.0)\n",
      "Requirement already satisfied: ipython in c:\\users\\d4rkdemian\\appdata\\local\\programs\\python\\python311\\lib\\site-packages (8.15.0)\n",
      "Requirement already satisfied: parso<0.9.0,>=0.8.3 in c:\\users\\d4rkdemian\\appdata\\local\\programs\\python\\python311\\lib\\site-packages (from jedi) (0.8.3)\n",
      "Requirement already satisfied: backcall in c:\\users\\d4rkdemian\\appdata\\local\\programs\\python\\python311\\lib\\site-packages (from ipython) (0.2.0)\n",
      "Requirement already satisfied: decorator in c:\\users\\d4rkdemian\\appdata\\local\\programs\\python\\python311\\lib\\site-packages (from ipython) (5.1.1)\n",
      "Requirement already satisfied: matplotlib-inline in c:\\users\\d4rkdemian\\appdata\\local\\programs\\python\\python311\\lib\\site-packages (from ipython) (0.1.6)\n",
      "Requirement already satisfied: pickleshare in c:\\users\\d4rkdemian\\appdata\\local\\programs\\python\\python311\\lib\\site-packages (from ipython) (0.7.5)\n",
      "Requirement already satisfied: prompt-toolkit!=3.0.37,<3.1.0,>=3.0.30 in c:\\users\\d4rkdemian\\appdata\\local\\programs\\python\\python311\\lib\\site-packages (from ipython) (3.0.39)\n",
      "Requirement already satisfied: pygments>=2.4.0 in c:\\users\\d4rkdemian\\appdata\\local\\programs\\python\\python311\\lib\\site-packages (from ipython) (2.16.1)\n",
      "Requirement already satisfied: stack-data in c:\\users\\d4rkdemian\\appdata\\local\\programs\\python\\python311\\lib\\site-packages (from ipython) (0.6.2)\n",
      "Requirement already satisfied: traitlets>=5 in c:\\users\\d4rkdemian\\appdata\\local\\programs\\python\\python311\\lib\\site-packages (from ipython) (5.9.0)\n",
      "Requirement already satisfied: colorama in c:\\users\\d4rkdemian\\appdata\\local\\programs\\python\\python311\\lib\\site-packages (from ipython) (0.4.6)\n",
      "Requirement already satisfied: wcwidth in c:\\users\\d4rkdemian\\appdata\\local\\programs\\python\\python311\\lib\\site-packages (from prompt-toolkit!=3.0.37,<3.1.0,>=3.0.30->ipython) (0.2.6)\n",
      "Requirement already satisfied: executing>=1.2.0 in c:\\users\\d4rkdemian\\appdata\\local\\programs\\python\\python311\\lib\\site-packages (from stack-data->ipython) (1.2.0)\n",
      "Requirement already satisfied: asttokens>=2.1.0 in c:\\users\\d4rkdemian\\appdata\\local\\programs\\python\\python311\\lib\\site-packages (from stack-data->ipython) (2.4.0)\n",
      "Requirement already satisfied: pure-eval in c:\\users\\d4rkdemian\\appdata\\local\\programs\\python\\python311\\lib\\site-packages (from stack-data->ipython) (0.2.2)\n",
      "Requirement already satisfied: six>=1.12.0 in c:\\users\\d4rkdemian\\appdata\\local\\programs\\python\\python311\\lib\\site-packages (from asttokens>=2.1.0->stack-data->ipython) (1.16.0)\n"
     ]
    }
   ],
   "source": [
    "!pip install jedi ipython"
   ]
  },
  {
   "cell_type": "code",
   "execution_count": 11,
   "id": "da68895e-7dd8-4aa3-9336-c116befa9547",
   "metadata": {},
   "outputs": [],
   "source": [
    "from sklearn.preprocessing import LabelEncoder\n",
    "encoder = LabelEncoder()"
   ]
  },
  {
   "cell_type": "code",
   "execution_count": 12,
   "id": "6f612e70-322c-4725-b29c-f75e1aaa435b",
   "metadata": {},
   "outputs": [],
   "source": [
    "df['target'] = encoder.fit_transform(df['target'])"
   ]
  },
  {
   "cell_type": "code",
   "execution_count": 13,
   "id": "2a222dd5-0977-41a9-96e8-ad46732f8c07",
   "metadata": {},
   "outputs": [
    {
     "data": {
      "text/html": [
       "<div>\n",
       "<style scoped>\n",
       "    .dataframe tbody tr th:only-of-type {\n",
       "        vertical-align: middle;\n",
       "    }\n",
       "\n",
       "    .dataframe tbody tr th {\n",
       "        vertical-align: top;\n",
       "    }\n",
       "\n",
       "    .dataframe thead th {\n",
       "        text-align: right;\n",
       "    }\n",
       "</style>\n",
       "<table border=\"1\" class=\"dataframe\">\n",
       "  <thead>\n",
       "    <tr style=\"text-align: right;\">\n",
       "      <th></th>\n",
       "      <th>target</th>\n",
       "      <th>text</th>\n",
       "    </tr>\n",
       "  </thead>\n",
       "  <tbody>\n",
       "    <tr>\n",
       "      <th>266</th>\n",
       "      <td>1</td>\n",
       "      <td>Subject: urgent assistance\\r\\ngood day ,\\r\\ni ...</td>\n",
       "    </tr>\n",
       "    <tr>\n",
       "      <th>2664</th>\n",
       "      <td>0</td>\n",
       "      <td>Subject: enron / hpl actuals for january 12 - ...</td>\n",
       "    </tr>\n",
       "    <tr>\n",
       "      <th>1848</th>\n",
       "      <td>1</td>\n",
       "      <td>Subject: anderson\\r\\njeromy\\r\\n</td>\n",
       "    </tr>\n",
       "    <tr>\n",
       "      <th>820</th>\n",
       "      <td>0</td>\n",
       "      <td>Subject: deals 141877 , 141883 , and 141884 ( ...</td>\n",
       "    </tr>\n",
       "    <tr>\n",
       "      <th>3888</th>\n",
       "      <td>1</td>\n",
       "      <td>Subject: bro - im finished\\r\\nunbelievably che...</td>\n",
       "    </tr>\n",
       "  </tbody>\n",
       "</table>\n",
       "</div>"
      ],
      "text/plain": [
       "      target                                               text\n",
       "266        1  Subject: urgent assistance\\r\\ngood day ,\\r\\ni ...\n",
       "2664       0  Subject: enron / hpl actuals for january 12 - ...\n",
       "1848       1                    Subject: anderson\\r\\njeromy\\r\\n\n",
       "820        0  Subject: deals 141877 , 141883 , and 141884 ( ...\n",
       "3888       1  Subject: bro - im finished\\r\\nunbelievably che..."
      ]
     },
     "execution_count": 13,
     "metadata": {},
     "output_type": "execute_result"
    }
   ],
   "source": [
    "df.sample(5)"
   ]
  },
  {
   "cell_type": "code",
   "execution_count": 14,
   "id": "0b4d3218-44ff-4ccc-8963-772d2261e12e",
   "metadata": {},
   "outputs": [
    {
     "data": {
      "text/plain": [
       "178"
      ]
     },
     "execution_count": 14,
     "metadata": {},
     "output_type": "execute_result"
    }
   ],
   "source": [
    "df.duplicated().sum()"
   ]
  },
  {
   "cell_type": "code",
   "execution_count": 15,
   "id": "8cad823e-7c24-4683-9f46-f6af87c09eb1",
   "metadata": {},
   "outputs": [],
   "source": [
    "df = df.drop_duplicates(keep='first')"
   ]
  },
  {
   "cell_type": "code",
   "execution_count": 16,
   "id": "573d667e-0278-4fcf-8cd9-e2c1279dd740",
   "metadata": {},
   "outputs": [
    {
     "data": {
      "text/plain": [
       "0"
      ]
     },
     "execution_count": 16,
     "metadata": {},
     "output_type": "execute_result"
    }
   ],
   "source": [
    "df.duplicated().sum()"
   ]
  },
  {
   "cell_type": "code",
   "execution_count": 17,
   "id": "ac6d80a1-3ae4-4bf5-b951-b35068121332",
   "metadata": {},
   "outputs": [
    {
     "data": {
      "text/plain": [
       "(4993, 2)"
      ]
     },
     "execution_count": 17,
     "metadata": {},
     "output_type": "execute_result"
    }
   ],
   "source": [
    "df.shape"
   ]
  },
  {
   "cell_type": "code",
   "execution_count": 18,
   "id": "c4a6cbb9-bc27-477c-9b5a-a8bb551896c4",
   "metadata": {},
   "outputs": [
    {
     "data": {
      "text/html": [
       "<div>\n",
       "<style scoped>\n",
       "    .dataframe tbody tr th:only-of-type {\n",
       "        vertical-align: middle;\n",
       "    }\n",
       "\n",
       "    .dataframe tbody tr th {\n",
       "        vertical-align: top;\n",
       "    }\n",
       "\n",
       "    .dataframe thead th {\n",
       "        text-align: right;\n",
       "    }\n",
       "</style>\n",
       "<table border=\"1\" class=\"dataframe\">\n",
       "  <thead>\n",
       "    <tr style=\"text-align: right;\">\n",
       "      <th></th>\n",
       "      <th>target</th>\n",
       "      <th>text</th>\n",
       "    </tr>\n",
       "  </thead>\n",
       "  <tbody>\n",
       "    <tr>\n",
       "      <th>0</th>\n",
       "      <td>0</td>\n",
       "      <td>Subject: enron methanol ; meter # : 988291\\r\\n...</td>\n",
       "    </tr>\n",
       "    <tr>\n",
       "      <th>1</th>\n",
       "      <td>0</td>\n",
       "      <td>Subject: hpl nom for january 9 , 2001\\r\\n( see...</td>\n",
       "    </tr>\n",
       "    <tr>\n",
       "      <th>2</th>\n",
       "      <td>0</td>\n",
       "      <td>Subject: neon retreat\\r\\nho ho ho , we ' re ar...</td>\n",
       "    </tr>\n",
       "    <tr>\n",
       "      <th>3</th>\n",
       "      <td>1</td>\n",
       "      <td>Subject: photoshop , windows , office . cheap ...</td>\n",
       "    </tr>\n",
       "    <tr>\n",
       "      <th>4</th>\n",
       "      <td>0</td>\n",
       "      <td>Subject: re : indian springs\\r\\nthis deal is t...</td>\n",
       "    </tr>\n",
       "  </tbody>\n",
       "</table>\n",
       "</div>"
      ],
      "text/plain": [
       "   target                                               text\n",
       "0       0  Subject: enron methanol ; meter # : 988291\\r\\n...\n",
       "1       0  Subject: hpl nom for january 9 , 2001\\r\\n( see...\n",
       "2       0  Subject: neon retreat\\r\\nho ho ho , we ' re ar...\n",
       "3       1  Subject: photoshop , windows , office . cheap ...\n",
       "4       0  Subject: re : indian springs\\r\\nthis deal is t..."
      ]
     },
     "execution_count": 18,
     "metadata": {},
     "output_type": "execute_result"
    }
   ],
   "source": [
    "df.head()"
   ]
  },
  {
   "cell_type": "code",
   "execution_count": 19,
   "id": "82115e7c-cb99-46da-b516-7aa24de0755e",
   "metadata": {},
   "outputs": [
    {
     "data": {
      "text/plain": [
       "target\n",
       "0    3531\n",
       "1    1462\n",
       "Name: count, dtype: int64"
      ]
     },
     "execution_count": 19,
     "metadata": {},
     "output_type": "execute_result"
    }
   ],
   "source": [
    "df['target'].value_counts()"
   ]
  },
  {
   "cell_type": "code",
   "execution_count": 20,
   "id": "d6143a0e-1f57-4e24-a28a-8cb296c1dbb9",
   "metadata": {},
   "outputs": [
    {
     "data": {
      "text/plain": [
       "([<matplotlib.patches.Wedge at 0x167d148f010>,\n",
       "  <matplotlib.patches.Wedge at 0x167d14871d0>],\n",
       " [Text(-0.6664987604061641, 0.8750882254818922, 'ham'),\n",
       "  Text(0.6664986784744886, -0.8750882878840056, 'spam')],\n",
       " [Text(-0.3635447784033622, 0.4773208502628502, '70.72'),\n",
       "  Text(0.36354473371335744, -0.4773208843003666, '29.28')])"
      ]
     },
     "execution_count": 20,
     "metadata": {},
     "output_type": "execute_result"
    },
    {
     "data": {
      "image/png": "[encoded data removed]",
      "text/plain": [
       "<Figure size 640x480 with 1 Axes>"
      ]
     },
     "metadata": {},
     "output_type": "display_data"
    }
   ],
   "source": [
    "import matplotlib.pyplot as plt\n",
    "plt.pie(df['target'].value_counts(),labels=['ham','spam'], autopct='%0.2f')"
   ]
  },
  {
   "cell_type": "code",
   "execution_count": 21,
   "id": "6b5e4147-dc40-4aec-828c-1f7c6b3bed79",
   "metadata": {},
   "outputs": [
    {
     "data": {
      "text/html": [
       "<div>\n",
       "<style scoped>\n",
       "    .dataframe tbody tr th:only-of-type {\n",
       "        vertical-align: middle;\n",
       "    }\n",
       "\n",
       "    .dataframe tbody tr th {\n",
       "        vertical-align: top;\n",
       "    }\n",
       "\n",
       "    .dataframe thead th {\n",
       "        text-align: right;\n",
       "    }\n",
       "</style>\n",
       "<table border=\"1\" class=\"dataframe\">\n",
       "  <thead>\n",
       "    <tr style=\"text-align: right;\">\n",
       "      <th></th>\n",
       "      <th>target</th>\n",
       "      <th>text</th>\n",
       "      <th>num_characters</th>\n",
       "    </tr>\n",
       "  </thead>\n",
       "  <tbody>\n",
       "    <tr>\n",
       "      <th>1391</th>\n",
       "      <td>0</td>\n",
       "      <td>Subject: mtbe upset\\r\\nthe mtbe plant had an u...</td>\n",
       "      <td>197</td>\n",
       "    </tr>\n",
       "    <tr>\n",
       "      <th>2482</th>\n",
       "      <td>0</td>\n",
       "      <td>Subject: re : meter 9707\\r\\ndaren ,\\r\\nfyi .\\r...</td>\n",
       "      <td>1193</td>\n",
       "    </tr>\n",
       "    <tr>\n",
       "      <th>550</th>\n",
       "      <td>1</td>\n",
       "      <td>Subject: appeal - democrat daily - inspection ...</td>\n",
       "      <td>383</td>\n",
       "    </tr>\n",
       "    <tr>\n",
       "      <th>2014</th>\n",
       "      <td>0</td>\n",
       "      <td>Subject: enron / hpl actuals for sept . 8 - 10...</td>\n",
       "      <td>329</td>\n",
       "    </tr>\n",
       "    <tr>\n",
       "      <th>3353</th>\n",
       "      <td>0</td>\n",
       "      <td>Subject: fw : [ fwd : fw : drawing by a school...</td>\n",
       "      <td>1705</td>\n",
       "    </tr>\n",
       "  </tbody>\n",
       "</table>\n",
       "</div>"
      ],
      "text/plain": [
       "      target                                               text  \\\n",
       "1391       0  Subject: mtbe upset\\r\\nthe mtbe plant had an u...   \n",
       "2482       0  Subject: re : meter 9707\\r\\ndaren ,\\r\\nfyi .\\r...   \n",
       "550        1  Subject: appeal - democrat daily - inspection ...   \n",
       "2014       0  Subject: enron / hpl actuals for sept . 8 - 10...   \n",
       "3353       0  Subject: fw : [ fwd : fw : drawing by a school...   \n",
       "\n",
       "      num_characters  \n",
       "1391             197  \n",
       "2482            1193  \n",
       "550              383  \n",
       "2014             329  \n",
       "3353            1705  "
      ]
     },
     "execution_count": 21,
     "metadata": {},
     "output_type": "execute_result"
    }
   ],
   "source": [
    "df['num_characters'] = df['text'].apply(len)\n",
    "df.sample(5)"
   ]
  },
  {
   "cell_type": "code",
   "execution_count": 22,
   "id": "a1f41016-1fb5-4363-b4d8-498d77049d15",
   "metadata": {},
   "outputs": [
    {
     "name": "stdout",
     "output_type": "stream",
     "text": [
      "Requirement already satisfied: nltk in c:\\users\\d4rkdemian\\appdata\\local\\programs\\python\\python311\\lib\\site-packages (3.8.1)\n",
      "Requirement already satisfied: click in c:\\users\\d4rkdemian\\appdata\\local\\programs\\python\\python311\\lib\\site-packages (from nltk) (8.1.7)\n",
      "Requirement already satisfied: joblib in c:\\users\\d4rkdemian\\appdata\\local\\programs\\python\\python311\\lib\\site-packages (from nltk) (1.3.2)\n",
      "Requirement already satisfied: regex>=2021.8.3 in c:\\users\\d4rkdemian\\appdata\\local\\programs\\python\\python311\\lib\\site-packages (from nltk) (2023.8.8)\n",
      "Requirement already satisfied: tqdm in c:\\users\\d4rkdemian\\appdata\\local\\programs\\python\\python311\\lib\\site-packages (from nltk) (4.66.1)\n",
      "Requirement already satisfied: colorama in c:\\users\\d4rkdemian\\appdata\\local\\programs\\python\\python311\\lib\\site-packages (from click->nltk) (0.4.6)\n"
     ]
    }
   ],
   "source": [
    "!pip install nltk"
   ]
  },
  {
   "cell_type": "code",
   "execution_count": 23,
   "id": "f5357665-f9ec-4a12-a90c-1f22bf77fc38",
   "metadata": {},
   "outputs": [
    {
     "name": "stderr",
     "output_type": "stream",
     "text": [
      "[nltk_data] Downloading package punkt to\n",
      "[nltk_data]     C:\\Users\\D4rkDemian\\AppData\\Roaming\\nltk_data...\n",
      "[nltk_data]   Package punkt is already up-to-date!\n"
     ]
    },
    {
     "data": {
      "text/plain": [
       "True"
      ]
     },
     "execution_count": 23,
     "metadata": {},
     "output_type": "execute_result"
    }
   ],
   "source": [
    "import nltk\n",
    "nltk.download('punkt')"
   ]
  },
  {
   "cell_type": "code",
   "execution_count": 24,
   "id": "94257c4a-0341-46d7-a1bb-57f0f6152076",
   "metadata": {},
   "outputs": [],
   "source": [
    "df['num_words'] = df['text'].apply(lambda x: len(nltk.word_tokenize(x)))"
   ]
  },
  {
   "cell_type": "code",
   "execution_count": 25,
   "id": "e0648af8-0247-420a-9412-1b5690433fbb",
   "metadata": {},
   "outputs": [
    {
     "data": {
      "text/html": [
       "<div>\n",
       "<style scoped>\n",
       "    .dataframe tbody tr th:only-of-type {\n",
       "        vertical-align: middle;\n",
       "    }\n",
       "\n",
       "    .dataframe tbody tr th {\n",
       "        vertical-align: top;\n",
       "    }\n",
       "\n",
       "    .dataframe thead th {\n",
       "        text-align: right;\n",
       "    }\n",
       "</style>\n",
       "<table border=\"1\" class=\"dataframe\">\n",
       "  <thead>\n",
       "    <tr style=\"text-align: right;\">\n",
       "      <th></th>\n",
       "      <th>target</th>\n",
       "      <th>text</th>\n",
       "      <th>num_characters</th>\n",
       "      <th>num_words</th>\n",
       "    </tr>\n",
       "  </thead>\n",
       "  <tbody>\n",
       "    <tr>\n",
       "      <th>3223</th>\n",
       "      <td>0</td>\n",
       "      <td>Subject: re : pg &amp; e texoma volumes\\r\\nfyi\\r\\n...</td>\n",
       "      <td>4659</td>\n",
       "      <td>1121</td>\n",
       "    </tr>\n",
       "    <tr>\n",
       "      <th>4858</th>\n",
       "      <td>0</td>\n",
       "      <td>Subject: re : deal 156071 feb 00\\r\\ndaren , i ...</td>\n",
       "      <td>1347</td>\n",
       "      <td>323</td>\n",
       "    </tr>\n",
       "    <tr>\n",
       "      <th>4561</th>\n",
       "      <td>1</td>\n",
       "      <td>Subject: today is a day to remember\\r\\ncongrad...</td>\n",
       "      <td>590</td>\n",
       "      <td>117</td>\n",
       "    </tr>\n",
       "    <tr>\n",
       "      <th>2776</th>\n",
       "      <td>0</td>\n",
       "      <td>Subject: cleburne issues\\r\\ndaren , with megan...</td>\n",
       "      <td>1545</td>\n",
       "      <td>327</td>\n",
       "    </tr>\n",
       "    <tr>\n",
       "      <th>1150</th>\n",
       "      <td>0</td>\n",
       "      <td>Subject: october 2000 co - owner avails .\\r\\ni...</td>\n",
       "      <td>858</td>\n",
       "      <td>253</td>\n",
       "    </tr>\n",
       "  </tbody>\n",
       "</table>\n",
       "</div>"
      ],
      "text/plain": [
       "      target                                               text  \\\n",
       "3223       0  Subject: re : pg & e texoma volumes\\r\\nfyi\\r\\n...   \n",
       "4858       0  Subject: re : deal 156071 feb 00\\r\\ndaren , i ...   \n",
       "4561       1  Subject: today is a day to remember\\r\\ncongrad...   \n",
       "2776       0  Subject: cleburne issues\\r\\ndaren , with megan...   \n",
       "1150       0  Subject: october 2000 co - owner avails .\\r\\ni...   \n",
       "\n",
       "      num_characters  num_words  \n",
       "3223            4659       1121  \n",
       "4858            1347        323  \n",
       "4561             590        117  \n",
       "2776            1545        327  \n",
       "1150             858        253  "
      ]
     },
     "execution_count": 25,
     "metadata": {},
     "output_type": "execute_result"
    }
   ],
   "source": [
    "df.sample(5)"
   ]
  },
  {
   "cell_type": "code",
   "execution_count": 26,
   "id": "82997c99-0595-4c36-aae3-2860efac9aa8",
   "metadata": {},
   "outputs": [],
   "source": [
    "df['num_sentences'] = df['text'].apply(lambda x: len(nltk.sent_tokenize(x)))"
   ]
  },
  {
   "cell_type": "code",
   "execution_count": 27,
   "id": "deeae086-8bb2-41c3-b433-32c01c525e31",
   "metadata": {},
   "outputs": [
    {
     "data": {
      "text/html": [
       "<div>\n",
       "<style scoped>\n",
       "    .dataframe tbody tr th:only-of-type {\n",
       "        vertical-align: middle;\n",
       "    }\n",
       "\n",
       "    .dataframe tbody tr th {\n",
       "        vertical-align: top;\n",
       "    }\n",
       "\n",
       "    .dataframe thead th {\n",
       "        text-align: right;\n",
       "    }\n",
       "</style>\n",
       "<table border=\"1\" class=\"dataframe\">\n",
       "  <thead>\n",
       "    <tr style=\"text-align: right;\">\n",
       "      <th></th>\n",
       "      <th>target</th>\n",
       "      <th>text</th>\n",
       "      <th>num_characters</th>\n",
       "      <th>num_words</th>\n",
       "      <th>num_sentences</th>\n",
       "    </tr>\n",
       "  </thead>\n",
       "  <tbody>\n",
       "    <tr>\n",
       "      <th>2571</th>\n",
       "      <td>1</td>\n",
       "      <td>Subject: re : where the investigation was\\r\\nt...</td>\n",
       "      <td>323</td>\n",
       "      <td>73</td>\n",
       "      <td>5</td>\n",
       "    </tr>\n",
       "    <tr>\n",
       "      <th>1861</th>\n",
       "      <td>1</td>\n",
       "      <td>Subject: dear customer your details have been ...</td>\n",
       "      <td>1208</td>\n",
       "      <td>238</td>\n",
       "      <td>20</td>\n",
       "    </tr>\n",
       "    <tr>\n",
       "      <th>2240</th>\n",
       "      <td>0</td>\n",
       "      <td>Subject: southern union - 03 / 01 prod - austi...</td>\n",
       "      <td>1082</td>\n",
       "      <td>294</td>\n",
       "      <td>16</td>\n",
       "    </tr>\n",
       "    <tr>\n",
       "      <th>1081</th>\n",
       "      <td>0</td>\n",
       "      <td>Subject: enron / hpl actuals for august 14 , 2...</td>\n",
       "      <td>153</td>\n",
       "      <td>40</td>\n",
       "      <td>4</td>\n",
       "    </tr>\n",
       "    <tr>\n",
       "      <th>4762</th>\n",
       "      <td>0</td>\n",
       "      <td>Subject: lst rev dec . 1999 josey ranch nom\\r\\...</td>\n",
       "      <td>1099</td>\n",
       "      <td>281</td>\n",
       "      <td>7</td>\n",
       "    </tr>\n",
       "  </tbody>\n",
       "</table>\n",
       "</div>"
      ],
      "text/plain": [
       "      target                                               text  \\\n",
       "2571       1  Subject: re : where the investigation was\\r\\nt...   \n",
       "1861       1  Subject: dear customer your details have been ...   \n",
       "2240       0  Subject: southern union - 03 / 01 prod - austi...   \n",
       "1081       0  Subject: enron / hpl actuals for august 14 , 2...   \n",
       "4762       0  Subject: lst rev dec . 1999 josey ranch nom\\r\\...   \n",
       "\n",
       "      num_characters  num_words  num_sentences  \n",
       "2571             323         73              5  \n",
       "1861            1208        238             20  \n",
       "2240            1082        294             16  \n",
       "1081             153         40              4  \n",
       "4762            1099        281              7  "
      ]
     },
     "execution_count": 27,
     "metadata": {},
     "output_type": "execute_result"
    }
   ],
   "source": [
    "df.sample(5)"
   ]
  },
  {
   "cell_type": "code",
   "execution_count": 28,
   "id": "95490913-6425-4b8d-9775-9dcc0dac459a",
   "metadata": {},
   "outputs": [
    {
     "data": {
      "text/html": [
       "<div>\n",
       "<style scoped>\n",
       "    .dataframe tbody tr th:only-of-type {\n",
       "        vertical-align: middle;\n",
       "    }\n",
       "\n",
       "    .dataframe tbody tr th {\n",
       "        vertical-align: top;\n",
       "    }\n",
       "\n",
       "    .dataframe thead th {\n",
       "        text-align: right;\n",
       "    }\n",
       "</style>\n",
       "<table border=\"1\" class=\"dataframe\">\n",
       "  <thead>\n",
       "    <tr style=\"text-align: right;\">\n",
       "      <th></th>\n",
       "      <th>num_characters</th>\n",
       "      <th>num_words</th>\n",
       "      <th>num_sentences</th>\n",
       "    </tr>\n",
       "  </thead>\n",
       "  <tbody>\n",
       "    <tr>\n",
       "      <th>count</th>\n",
       "      <td>4993.000000</td>\n",
       "      <td>4993.000000</td>\n",
       "      <td>4993.000000</td>\n",
       "    </tr>\n",
       "    <tr>\n",
       "      <th>mean</th>\n",
       "      <td>1069.426397</td>\n",
       "      <td>233.678149</td>\n",
       "      <td>13.386942</td>\n",
       "    </tr>\n",
       "    <tr>\n",
       "      <th>std</th>\n",
       "      <td>1547.863387</td>\n",
       "      <td>340.702932</td>\n",
       "      <td>27.959959</td>\n",
       "    </tr>\n",
       "    <tr>\n",
       "      <th>min</th>\n",
       "      <td>11.000000</td>\n",
       "      <td>2.000000</td>\n",
       "      <td>1.000000</td>\n",
       "    </tr>\n",
       "    <tr>\n",
       "      <th>25%</th>\n",
       "      <td>256.000000</td>\n",
       "      <td>55.000000</td>\n",
       "      <td>4.000000</td>\n",
       "    </tr>\n",
       "    <tr>\n",
       "      <th>50%</th>\n",
       "      <td>557.000000</td>\n",
       "      <td>125.000000</td>\n",
       "      <td>7.000000</td>\n",
       "    </tr>\n",
       "    <tr>\n",
       "      <th>75%</th>\n",
       "      <td>1262.000000</td>\n",
       "      <td>288.000000</td>\n",
       "      <td>15.000000</td>\n",
       "    </tr>\n",
       "    <tr>\n",
       "      <th>max</th>\n",
       "      <td>32258.000000</td>\n",
       "      <td>8863.000000</td>\n",
       "      <td>1204.000000</td>\n",
       "    </tr>\n",
       "  </tbody>\n",
       "</table>\n",
       "</div>"
      ],
      "text/plain": [
       "       num_characters    num_words  num_sentences\n",
       "count     4993.000000  4993.000000    4993.000000\n",
       "mean      1069.426397   233.678149      13.386942\n",
       "std       1547.863387   340.702932      27.959959\n",
       "min         11.000000     2.000000       1.000000\n",
       "25%        256.000000    55.000000       4.000000\n",
       "50%        557.000000   125.000000       7.000000\n",
       "75%       1262.000000   288.000000      15.000000\n",
       "max      32258.000000  8863.000000    1204.000000"
      ]
     },
     "execution_count": 28,
     "metadata": {},
     "output_type": "execute_result"
    }
   ],
   "source": [
    "df[['num_characters' , 'num_words' , 'num_sentences']].describe()"
   ]
  },
  {
   "cell_type": "code",
   "execution_count": 29,
   "id": "4c3995ab-b7a6-4df6-9b62-11dd6d6ab3e7",
   "metadata": {},
   "outputs": [
    {
     "data": {
      "text/html": [
       "<div>\n",
       "<style scoped>\n",
       "    .dataframe tbody tr th:only-of-type {\n",
       "        vertical-align: middle;\n",
       "    }\n",
       "\n",
       "    .dataframe tbody tr th {\n",
       "        vertical-align: top;\n",
       "    }\n",
       "\n",
       "    .dataframe thead th {\n",
       "        text-align: right;\n",
       "    }\n",
       "</style>\n",
       "<table border=\"1\" class=\"dataframe\">\n",
       "  <thead>\n",
       "    <tr style=\"text-align: right;\">\n",
       "      <th></th>\n",
       "      <th>num_characters</th>\n",
       "      <th>num_words</th>\n",
       "      <th>num_sentences</th>\n",
       "    </tr>\n",
       "  </thead>\n",
       "  <tbody>\n",
       "    <tr>\n",
       "      <th>count</th>\n",
       "      <td>1462.000000</td>\n",
       "      <td>1462.000000</td>\n",
       "      <td>1462.000000</td>\n",
       "    </tr>\n",
       "    <tr>\n",
       "      <th>mean</th>\n",
       "      <td>1249.326265</td>\n",
       "      <td>241.315321</td>\n",
       "      <td>17.551984</td>\n",
       "    </tr>\n",
       "    <tr>\n",
       "      <th>std</th>\n",
       "      <td>1840.112883</td>\n",
       "      <td>349.439381</td>\n",
       "      <td>33.111447</td>\n",
       "    </tr>\n",
       "    <tr>\n",
       "      <th>min</th>\n",
       "      <td>11.000000</td>\n",
       "      <td>2.000000</td>\n",
       "      <td>1.000000</td>\n",
       "    </tr>\n",
       "    <tr>\n",
       "      <th>25%</th>\n",
       "      <td>304.250000</td>\n",
       "      <td>60.000000</td>\n",
       "      <td>4.000000</td>\n",
       "    </tr>\n",
       "    <tr>\n",
       "      <th>50%</th>\n",
       "      <td>589.000000</td>\n",
       "      <td>119.500000</td>\n",
       "      <td>9.000000</td>\n",
       "    </tr>\n",
       "    <tr>\n",
       "      <th>75%</th>\n",
       "      <td>1305.000000</td>\n",
       "      <td>252.750000</td>\n",
       "      <td>19.000000</td>\n",
       "    </tr>\n",
       "    <tr>\n",
       "      <th>max</th>\n",
       "      <td>22073.000000</td>\n",
       "      <td>3963.000000</td>\n",
       "      <td>693.000000</td>\n",
       "    </tr>\n",
       "  </tbody>\n",
       "</table>\n",
       "</div>"
      ],
      "text/plain": [
       "       num_characters    num_words  num_sentences\n",
       "count     1462.000000  1462.000000    1462.000000\n",
       "mean      1249.326265   241.315321      17.551984\n",
       "std       1840.112883   349.439381      33.111447\n",
       "min         11.000000     2.000000       1.000000\n",
       "25%        304.250000    60.000000       4.000000\n",
       "50%        589.000000   119.500000       9.000000\n",
       "75%       1305.000000   252.750000      19.000000\n",
       "max      22073.000000  3963.000000     693.000000"
      ]
     },
     "execution_count": 29,
     "metadata": {},
     "output_type": "execute_result"
    }
   ],
   "source": [
    "df[df['target'] == 1][['num_characters' , 'num_words' , 'num_sentences']].describe()"
   ]
  },
  {
   "cell_type": "code",
   "execution_count": 30,
   "id": "97965594-7301-470f-86ec-425d12018813",
   "metadata": {},
   "outputs": [],
   "source": [
    "import seaborn as sns"
   ]
  },
  {
   "cell_type": "code",
   "execution_count": 31,
   "id": "47953887-7648-4fee-b643-e17a06d52e2e",
   "metadata": {},
   "outputs": [
    {
     "name": "stderr",
     "output_type": "stream",
     "text": [
      "C:\\Users\\D4rkDemian\\AppData\\Local\\Programs\\Python\\Python311\\Lib\\site-packages\\seaborn\\_oldcore.py:1498: FutureWarning: is_categorical_dtype is deprecated and will be removed in a future version. Use isinstance(dtype, CategoricalDtype) instead\n",
      "  if pd.api.types.is_categorical_dtype(vector):\n",
      "C:\\Users\\D4rkDemian\\AppData\\Local\\Programs\\Python\\Python311\\Lib\\site-packages\\seaborn\\_oldcore.py:1119: FutureWarning: use_inf_as_na option is deprecated and will be removed in a future version. Convert inf values to NaN before operating instead.\n",
      "  with pd.option_context('mode.use_inf_as_na', True):\n",
      "C:\\Users\\D4rkDemian\\AppData\\Local\\Programs\\Python\\Python311\\Lib\\site-packages\\seaborn\\_oldcore.py:1498: FutureWarning: is_categorical_dtype is deprecated and will be removed in a future version. Use isinstance(dtype, CategoricalDtype) instead\n",
      "  if pd.api.types.is_categorical_dtype(vector):\n",
      "C:\\Users\\D4rkDemian\\AppData\\Local\\Programs\\Python\\Python311\\Lib\\site-packages\\seaborn\\_oldcore.py:1119: FutureWarning: use_inf_as_na option is deprecated and will be removed in a future version. Convert inf values to NaN before operating instead.\n",
      "  with pd.option_context('mode.use_inf_as_na', True):\n"
     ]
    },
    {
     "data": {
      "text/plain": [
       "<Axes: xlabel='num_characters', ylabel='Count'>"
      ]
     },
     "execution_count": 31,
     "metadata": {},
     "output_type": "execute_result"
    },
    {
     "data": {
      "image/png": "[encoded data removed]",
      "text/plain": [
       "<Figure size 1200x600 with 1 Axes>"
      ]
     },
     "metadata": {},
     "output_type": "display_data"
    }
   ],
   "source": [
    "plt.figure(figsize=(12,6))\n",
    "sns.histplot(df[df['target'] == 0]['num_characters'])\n",
    "sns.histplot(df[df['target']== 1]['num_characters'] , color=\"red\")"
   ]
  },
  {
   "cell_type": "markdown",
   "id": "066b02c4-35c8-4da0-bcc3-f9e21c733d7b",
   "metadata": {},
   "source": [
    "## 2. Data Preprocessing \n",
    " - Lower Case\n",
    " - Tokenization\n",
    " - Removing special characters\n",
    " - Removing stopwords and punctuations\n",
    " - Stemming"
   ]
  },
  {
   "cell_type": "code",
   "execution_count": 32,
   "id": "b09d12da-1762-4025-bf47-7806f32149f9",
   "metadata": {},
   "outputs": [
    {
     "data": {
      "text/plain": [
       "['i',\n",
       " 'me',\n",
       " 'my',\n",
       " 'myself',\n",
       " 'we',\n",
       " 'our',\n",
       " 'ours',\n",
       " 'ourselves',\n",
       " 'you',\n",
       " \"you're\",\n",
       " \"you've\",\n",
       " \"you'll\",\n",
       " \"you'd\",\n",
       " 'your',\n",
       " 'yours',\n",
       " 'yourself',\n",
       " 'yourselves',\n",
       " 'he',\n",
       " 'him',\n",
       " 'his',\n",
       " 'himself',\n",
       " 'she',\n",
       " \"she's\",\n",
       " 'her',\n",
       " 'hers',\n",
       " 'herself',\n",
       " 'it',\n",
       " \"it's\",\n",
       " 'its',\n",
       " 'itself',\n",
       " 'they',\n",
       " 'them',\n",
       " 'their',\n",
       " 'theirs',\n",
       " 'themselves',\n",
       " 'what',\n",
       " 'which',\n",
       " 'who',\n",
       " 'whom',\n",
       " 'this',\n",
       " 'that',\n",
       " \"that'll\",\n",
       " 'these',\n",
       " 'those',\n",
       " 'am',\n",
       " 'is',\n",
       " 'are',\n",
       " 'was',\n",
       " 'were',\n",
       " 'be',\n",
       " 'been',\n",
       " 'being',\n",
       " 'have',\n",
       " 'has',\n",
       " 'had',\n",
       " 'having',\n",
       " 'do',\n",
       " 'does',\n",
       " 'did',\n",
       " 'doing',\n",
       " 'a',\n",
       " 'an',\n",
       " 'the',\n",
       " 'and',\n",
       " 'but',\n",
       " 'if',\n",
       " 'or',\n",
       " 'because',\n",
       " 'as',\n",
       " 'until',\n",
       " 'while',\n",
       " 'of',\n",
       " 'at',\n",
       " 'by',\n",
       " 'for',\n",
       " 'with',\n",
       " 'about',\n",
       " 'against',\n",
       " 'between',\n",
       " 'into',\n",
       " 'through',\n",
       " 'during',\n",
       " 'before',\n",
       " 'after',\n",
       " 'above',\n",
       " 'below',\n",
       " 'to',\n",
       " 'from',\n",
       " 'up',\n",
       " 'down',\n",
       " 'in',\n",
       " 'out',\n",
       " 'on',\n",
       " 'off',\n",
       " 'over',\n",
       " 'under',\n",
       " 'again',\n",
       " 'further',\n",
       " 'then',\n",
       " 'once',\n",
       " 'here',\n",
       " 'there',\n",
       " 'when',\n",
       " 'where',\n",
       " 'why',\n",
       " 'how',\n",
       " 'all',\n",
       " 'any',\n",
       " 'both',\n",
       " 'each',\n",
       " 'few',\n",
       " 'more',\n",
       " 'most',\n",
       " 'other',\n",
       " 'some',\n",
       " 'such',\n",
       " 'no',\n",
       " 'nor',\n",
       " 'not',\n",
       " 'only',\n",
       " 'own',\n",
       " 'same',\n",
       " 'so',\n",
       " 'than',\n",
       " 'too',\n",
       " 'very',\n",
       " 's',\n",
       " 't',\n",
       " 'can',\n",
       " 'will',\n",
       " 'just',\n",
       " 'don',\n",
       " \"don't\",\n",
       " 'should',\n",
       " \"should've\",\n",
       " 'now',\n",
       " 'd',\n",
       " 'll',\n",
       " 'm',\n",
       " 'o',\n",
       " 're',\n",
       " 've',\n",
       " 'y',\n",
       " 'ain',\n",
       " 'aren',\n",
       " \"aren't\",\n",
       " 'couldn',\n",
       " \"couldn't\",\n",
       " 'didn',\n",
       " \"didn't\",\n",
       " 'doesn',\n",
       " \"doesn't\",\n",
       " 'hadn',\n",
       " \"hadn't\",\n",
       " 'hasn',\n",
       " \"hasn't\",\n",
       " 'haven',\n",
       " \"haven't\",\n",
       " 'isn',\n",
       " \"isn't\",\n",
       " 'ma',\n",
       " 'mightn',\n",
       " \"mightn't\",\n",
       " 'mustn',\n",
       " \"mustn't\",\n",
       " 'needn',\n",
       " \"needn't\",\n",
       " 'shan',\n",
       " \"shan't\",\n",
       " 'shouldn',\n",
       " \"shouldn't\",\n",
       " 'wasn',\n",
       " \"wasn't\",\n",
       " 'weren',\n",
       " \"weren't\",\n",
       " 'won',\n",
       " \"won't\",\n",
       " 'wouldn',\n",
       " \"wouldn't\"]"
      ]
     },
     "execution_count": 32,
     "metadata": {},
     "output_type": "execute_result"
    }
   ],
   "source": [
    "from nltk.corpus import stopwords\n",
    "stopwords.words('english')"
   ]
  },
  {
   "cell_type": "code",
   "execution_count": 33,
   "id": "f323d9d7-7236-4773-a7df-ff72ba87b6b0",
   "metadata": {},
   "outputs": [
    {
     "data": {
      "text/plain": [
       "'!\"#$%&\\'()*+,-./:;<=>?@[\\\\]^_`{|}~'"
      ]
     },
     "execution_count": 33,
     "metadata": {},
     "output_type": "execute_result"
    }
   ],
   "source": [
    "import string\n",
    "string.punctuation"
   ]
  },
  {
   "cell_type": "code",
   "execution_count": 34,
   "id": "fa47aa7b-396a-469b-8b75-26d1e51f57c8",
   "metadata": {},
   "outputs": [
    {
     "data": {
      "text/plain": [
       "'danc'"
      ]
     },
     "execution_count": 34,
     "metadata": {},
     "output_type": "execute_result"
    }
   ],
   "source": [
    "from nltk.stem.porter import PorterStemmer\n",
    "ps = PorterStemmer()\n",
    "ps.stem('dancing')"
   ]
  },
  {
   "cell_type": "code",
   "execution_count": 35,
   "id": "ac0de8ed-2bc8-427a-af64-ec38b76a42a1",
   "metadata": {},
   "outputs": [],
   "source": [
    "def transform_text(text):\n",
    "    text.lower()\n",
    "    text = nltk.word_tokenize(text)\n",
    "    y = []\n",
    "    for i in text:\n",
    "        if i.isalnum():\n",
    "            y.append(i)\n",
    "    text = y[:]\n",
    "    y.clear()\n",
    "    for i in text:\n",
    "        if i not in stopwords.words('english') and i not in string.punctuation:\n",
    "            y.append(i)\n",
    "    text = y[:]\n",
    "    y.clear()\n",
    "    for i in text:\n",
    "        y.append(ps.stem(i))\n",
    "    return \" \".join(y)"
   ]
  },
  {
   "cell_type": "code",
   "execution_count": 36,
   "id": "e326b9e1-dce4-4933-9d87-31e5240631b8",
   "metadata": {},
   "outputs": [
    {
     "data": {
      "text/plain": [
       "'hi 10 love yt video machin learn danc'"
      ]
     },
     "execution_count": 36,
     "metadata": {},
     "output_type": "execute_result"
    }
   ],
   "source": [
    "transform_text('Hi how are you?%10 Hitesh.I love YT videos on Machine Learning and dancing, what about you?')"
   ]
  },
  {
   "cell_type": "code",
   "execution_count": 37,
   "id": "9e33d3f3-4f7f-4fed-906e-bf7863114d45",
   "metadata": {},
   "outputs": [],
   "source": [
    "df['transformed_text'] = df['text'].apply(transform_text)"
   ]
  },
  {
   "cell_type": "code",
   "execution_count": 38,
   "id": "aa9cc38a-510f-4aa6-9f3a-bbfaef519882",
   "metadata": {},
   "outputs": [
    {
     "data": {
      "text/html": [
       "<div>\n",
       "<style scoped>\n",
       "    .dataframe tbody tr th:only-of-type {\n",
       "        vertical-align: middle;\n",
       "    }\n",
       "\n",
       "    .dataframe tbody tr th {\n",
       "        vertical-align: top;\n",
       "    }\n",
       "\n",
       "    .dataframe thead th {\n",
       "        text-align: right;\n",
       "    }\n",
       "</style>\n",
       "<table border=\"1\" class=\"dataframe\">\n",
       "  <thead>\n",
       "    <tr style=\"text-align: right;\">\n",
       "      <th></th>\n",
       "      <th>target</th>\n",
       "      <th>text</th>\n",
       "      <th>num_characters</th>\n",
       "      <th>num_words</th>\n",
       "      <th>num_sentences</th>\n",
       "      <th>transformed_text</th>\n",
       "    </tr>\n",
       "  </thead>\n",
       "  <tbody>\n",
       "    <tr>\n",
       "      <th>0</th>\n",
       "      <td>0</td>\n",
       "      <td>Subject: enron methanol ; meter # : 988291\\r\\n...</td>\n",
       "      <td>327</td>\n",
       "      <td>68</td>\n",
       "      <td>3</td>\n",
       "      <td>subject enron methanol meter 988291 follow not...</td>\n",
       "    </tr>\n",
       "    <tr>\n",
       "      <th>1</th>\n",
       "      <td>0</td>\n",
       "      <td>Subject: hpl nom for january 9 , 2001\\r\\n( see...</td>\n",
       "      <td>97</td>\n",
       "      <td>24</td>\n",
       "      <td>3</td>\n",
       "      <td>subject hpl nom januari 9 2001 see attach file...</td>\n",
       "    </tr>\n",
       "    <tr>\n",
       "      <th>2</th>\n",
       "      <td>0</td>\n",
       "      <td>Subject: neon retreat\\r\\nho ho ho , we ' re ar...</td>\n",
       "      <td>2524</td>\n",
       "      <td>551</td>\n",
       "      <td>24</td>\n",
       "      <td>subject neon retreat ho ho ho around wonder ti...</td>\n",
       "    </tr>\n",
       "    <tr>\n",
       "      <th>3</th>\n",
       "      <td>1</td>\n",
       "      <td>Subject: photoshop , windows , office . cheap ...</td>\n",
       "      <td>414</td>\n",
       "      <td>49</td>\n",
       "      <td>3</td>\n",
       "      <td>subject photoshop window offic cheap main tren...</td>\n",
       "    </tr>\n",
       "    <tr>\n",
       "      <th>4</th>\n",
       "      <td>0</td>\n",
       "      <td>Subject: re : indian springs\\r\\nthis deal is t...</td>\n",
       "      <td>336</td>\n",
       "      <td>71</td>\n",
       "      <td>3</td>\n",
       "      <td>subject indian spring deal book teco pvr reven...</td>\n",
       "    </tr>\n",
       "  </tbody>\n",
       "</table>\n",
       "</div>"
      ],
      "text/plain": [
       "   target                                               text  num_characters  \\\n",
       "0       0  Subject: enron methanol ; meter # : 988291\\r\\n...             327   \n",
       "1       0  Subject: hpl nom for january 9 , 2001\\r\\n( see...              97   \n",
       "2       0  Subject: neon retreat\\r\\nho ho ho , we ' re ar...            2524   \n",
       "3       1  Subject: photoshop , windows , office . cheap ...             414   \n",
       "4       0  Subject: re : indian springs\\r\\nthis deal is t...             336   \n",
       "\n",
       "   num_words  num_sentences                                   transformed_text  \n",
       "0         68              3  subject enron methanol meter 988291 follow not...  \n",
       "1         24              3  subject hpl nom januari 9 2001 see attach file...  \n",
       "2        551             24  subject neon retreat ho ho ho around wonder ti...  \n",
       "3         49              3  subject photoshop window offic cheap main tren...  \n",
       "4         71              3  subject indian spring deal book teco pvr reven...  "
      ]
     },
     "execution_count": 38,
     "metadata": {},
     "output_type": "execute_result"
    }
   ],
   "source": [
    "df.head()"
   ]
  },
  {
   "cell_type": "code",
   "execution_count": 39,
   "id": "58f68710-e9e7-4a10-acde-5529082b4ec4",
   "metadata": {},
   "outputs": [
    {
     "name": "stdout",
     "output_type": "stream",
     "text": [
      "Requirement already satisfied: wordcloud in c:\\users\\d4rkdemian\\appdata\\local\\programs\\python\\python311\\lib\\site-packages (1.9.2)\n",
      "Requirement already satisfied: numpy>=1.6.1 in c:\\users\\d4rkdemian\\appdata\\local\\programs\\python\\python311\\lib\\site-packages (from wordcloud) (1.25.2)\n",
      "Requirement already satisfied: pillow in c:\\users\\d4rkdemian\\appdata\\local\\programs\\python\\python311\\lib\\site-packages (from wordcloud) (10.0.0)\n",
      "Requirement already satisfied: matplotlib in c:\\users\\d4rkdemian\\appdata\\local\\programs\\python\\python311\\lib\\site-packages (from wordcloud) (3.7.2)\n",
      "Requirement already satisfied: contourpy>=1.0.1 in c:\\users\\d4rkdemian\\appdata\\local\\programs\\python\\python311\\lib\\site-packages (from matplotlib->wordcloud) (1.1.0)\n",
      "Requirement already satisfied: cycler>=0.10 in c:\\users\\d4rkdemian\\appdata\\local\\programs\\python\\python311\\lib\\site-packages (from matplotlib->wordcloud) (0.11.0)\n",
      "Requirement already satisfied: fonttools>=4.22.0 in c:\\users\\d4rkdemian\\appdata\\local\\programs\\python\\python311\\lib\\site-packages (from matplotlib->wordcloud) (4.42.1)\n",
      "Requirement already satisfied: kiwisolver>=1.0.1 in c:\\users\\d4rkdemian\\appdata\\local\\programs\\python\\python311\\lib\\site-packages (from matplotlib->wordcloud) (1.4.5)\n",
      "Requirement already satisfied: packaging>=20.0 in c:\\users\\d4rkdemian\\appdata\\local\\programs\\python\\python311\\lib\\site-packages (from matplotlib->wordcloud) (23.1)\n",
      "Requirement already satisfied: pyparsing<3.1,>=2.3.1 in c:\\users\\d4rkdemian\\appdata\\local\\programs\\python\\python311\\lib\\site-packages (from matplotlib->wordcloud) (3.0.9)\n",
      "Requirement already satisfied: python-dateutil>=2.7 in c:\\users\\d4rkdemian\\appdata\\local\\programs\\python\\python311\\lib\\site-packages (from matplotlib->wordcloud) (2.8.2)\n",
      "Requirement already satisfied: six>=1.5 in c:\\users\\d4rkdemian\\appdata\\local\\programs\\python\\python311\\lib\\site-packages (from python-dateutil>=2.7->matplotlib->wordcloud) (1.16.0)\n"
     ]
    }
   ],
   "source": [
    "!pip install wordcloud"
   ]
  },
  {
   "cell_type": "code",
   "execution_count": 40,
   "id": "f333ccfa-9e10-49a5-b039-ad6a053e8290",
   "metadata": {},
   "outputs": [],
   "source": [
    "from wordcloud import WordCloud\n",
    "wc = WordCloud(width=500 , height=500, min_font_size=10, background_color='white')"
   ]
  },
  {
   "cell_type": "code",
   "execution_count": 41,
   "id": "d4b66955-f41e-464b-881e-cb31bc5b9e89",
   "metadata": {},
   "outputs": [],
   "source": [
    "spam_wc = wc.generate(df[df['target']== 1]['transformed_text'].str.cat(sep=\" \"))"
   ]
  },
  {
   "cell_type": "code",
   "execution_count": 42,
   "id": "f2e46607-b860-4854-bda2-f40256a677e1",
   "metadata": {},
   "outputs": [
    {
     "data": {
      "text/plain": [
       "<matplotlib.image.AxesImage at 0x167e68f7f50>"
      ]
     },
     "execution_count": 42,
     "metadata": {},
     "output_type": "execute_result"
    },
    {
     "data": {
      "image/png": "[encoded data removed]",
      "text/plain": [
       "<Figure size 1200x600 with 1 Axes>"
      ]
     },
     "metadata": {},
     "output_type": "display_data"
    }
   ],
   "source": [
    "plt.figure(figsize=(12,6))\n",
    "plt.imshow(spam_wc)"
   ]
  },
  {
   "cell_type": "markdown",
   "id": "db9b813e-015c-4f3a-96c7-8e63f786cd0c",
   "metadata": {},
   "source": [
    "## 3. Model Building"
   ]
  },
  {
   "cell_type": "code",
   "execution_count": 43,
   "id": "0a58e4db-4bb4-4fcd-92d4-f70ea3e74d9b",
   "metadata": {},
   "outputs": [],
   "source": [
    "from sklearn.feature_extraction.text import CountVectorizer , TfidfVectorizer\n",
    "tfidf = TfidfVectorizer()\n",
    "cv = CountVectorizer()"
   ]
  },
  {
   "cell_type": "code",
   "execution_count": 44,
   "id": "699f7b7b-a348-401f-8bf6-e2f73ae25234",
   "metadata": {},
   "outputs": [],
   "source": [
    "X = tfidf.fit_transform(df['transformed_text']).toarray()"
   ]
  },
  {
   "cell_type": "code",
   "execution_count": 45,
   "id": "229809fa-cca6-4b03-b4d4-2e75b455c9d4",
   "metadata": {},
   "outputs": [
    {
     "data": {
      "text/plain": [
       "array([[0.11212774, 0.        , 0.        , ..., 0.        , 0.        ,\n",
       "        0.        ],\n",
       "       [0.        , 0.        , 0.        , ..., 0.        , 0.        ,\n",
       "        0.        ],\n",
       "       [0.        , 0.        , 0.        , ..., 0.        , 0.        ,\n",
       "        0.        ],\n",
       "       ...,\n",
       "       [0.        , 0.12398632, 0.        , ..., 0.        , 0.        ,\n",
       "        0.        ],\n",
       "       [0.        , 0.        , 0.        , ..., 0.        , 0.        ,\n",
       "        0.        ],\n",
       "       [0.        , 0.        , 0.        , ..., 0.        , 0.        ,\n",
       "        0.        ]])"
      ]
     },
     "execution_count": 45,
     "metadata": {},
     "output_type": "execute_result"
    }
   ],
   "source": [
    "X"
   ]
  },
  {
   "cell_type": "code",
   "execution_count": 46,
   "id": "5447f5b2-24f9-4eec-87be-374bb321bd77",
   "metadata": {},
   "outputs": [
    {
     "data": {
      "text/plain": [
       "(4993, 42592)"
      ]
     },
     "execution_count": 46,
     "metadata": {},
     "output_type": "execute_result"
    }
   ],
   "source": [
    "X.shape"
   ]
  },
  {
   "cell_type": "code",
   "execution_count": 47,
   "id": "6ce200b2-d72b-4eb6-aee2-f765bf9be1a1",
   "metadata": {},
   "outputs": [],
   "source": [
    "y = df['target'].values"
   ]
  },
  {
   "cell_type": "code",
   "execution_count": 48,
   "id": "727388d9-08d3-4aed-9329-0ea8fba285af",
   "metadata": {},
   "outputs": [
    {
     "data": {
      "text/plain": [
       "array([0, 0, 0, ..., 0, 0, 1])"
      ]
     },
     "execution_count": 48,
     "metadata": {},
     "output_type": "execute_result"
    }
   ],
   "source": [
    "y"
   ]
  },
  {
   "cell_type": "code",
   "execution_count": 49,
   "id": "c4395988-72be-45cd-a79e-b36299dc1811",
   "metadata": {},
   "outputs": [],
   "source": [
    "from sklearn.model_selection import train_test_split\n",
    "from sklearn.metrics import accuracy_score , precision_score"
   ]
  },
  {
   "cell_type": "code",
   "execution_count": 50,
   "id": "23037d30-aae1-4ce7-ba19-91b77ebf3403",
   "metadata": {},
   "outputs": [],
   "source": [
    "X_train,X_test,y_train,y_test = train_test_split(X,y,test_size=0.2,random_state=2)"
   ]
  },
  {
   "cell_type": "code",
   "execution_count": 85,
   "id": "b3920c17-d3ab-4895-bb23-a08071baa2a3",
   "metadata": {},
   "outputs": [],
   "source": [
    "from sklearn.svm import SVC\n",
    "svc = SVC(kernel='poly' , gamma=1.0)"
   ]
  },
  {
   "cell_type": "code",
   "execution_count": 86,
   "id": "4bfe5fd8-2cf9-4183-9f6b-21d14f71db0f",
   "metadata": {},
   "outputs": [],
   "source": [
    "# from sklearn.naive_bayes import MultinomialNB\n",
    "# # Defining our model\n",
    "# clf = MultinomialNB()"
   ]
  },
  {
   "cell_type": "code",
   "execution_count": 87,
   "id": "ceb2b11a-629a-4127-9631-829581b5b725",
   "metadata": {},
   "outputs": [],
   "source": [
    "# clf.fit(X_train, y_train)\n",
    "# y_pred = clf.predict(X_test)\n",
    "# accuracy = accuracy_score(y_test , y_pred)\n",
    "# precision = precision_score(y_test , y_pred)\n",
    "# print('Accuracy score for MultinomialNB: ' , accuracy)\n",
    "# print('Precision score for MultinomialNB: ' , precision)"
   ]
  },
  {
   "cell_type": "code",
   "execution_count": 88,
   "id": "27dbc5ed-e3e4-410b-a6fb-3794775ffb9c",
   "metadata": {},
   "outputs": [],
   "source": [
    "svc.fit(X_train,y_train)\n",
    "y_pred = svc.predict(X_test)\n",
    "accuracy = accuracy_score(y_test , y_pred)\n",
    "precision = precision_score(y_test , y_pred)"
   ]
  },
  {
   "cell_type": "code",
   "execution_count": 89,
   "id": "5ee2299e-0a7d-4e80-b96a-117cdefe9bc0",
   "metadata": {},
   "outputs": [
    {
     "name": "stdout",
     "output_type": "stream",
     "text": [
      "Accuracy Score:  0.7987987987987988\n",
      "Prediction Score:  1.0\n"
     ]
    }
   ],
   "source": [
    "print('Accuracy Score: ' , accuracy)\n",
    "print('Prediction Score: ' , precision)"
   ]
  },
  {
   "cell_type": "code",
   "execution_count": 91,
   "id": "4759420c-584f-4c88-af7e-61611651581c",
   "metadata": {},
   "outputs": [],
   "source": [
    "import pickle\n",
    "pickle.dump(tfidf, open('vectorizer.pkl', 'wb'))\n",
    "pickle.dump(svc , open('model.pkl' , 'wb'))"
   ]
  },
  {
   "cell_type": "code",
   "execution_count": null,
   "id": "9bab5a5d-10a7-4249-8421-0e8a5194d861",
   "metadata": {},
   "outputs": [],
   "source": []
  }
 ],
 "metadata": {
  "kernelspec": {
   "display_name": "Python 3.11.5 64-bit",
   "language": "python",
   "name": "python3"
  },
  "language_info": {
   "codemirror_mode": {
    "name": "ipython",
    "version": 3
   },
   "file_extension": ".py",
   "mimetype": "text/x-python",
   "name": "python",
   "nbconvert_exporter": "python",
   "pygments_lexer": "ipython3",
   "version": "3.11.5"
  },
  "vscode": {
   "interpreter": {
    "hash": "51b0f3d8c456ecc4bfbf1cb016247d8bd3f2815b0cb630a774c5997ac0ed62f2"
   }
  }
 },
 "nbformat": 4,
 "nbformat_minor": 5
}
